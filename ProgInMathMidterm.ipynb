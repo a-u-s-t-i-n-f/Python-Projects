{
 "cells": [
  {
   "cell_type": "markdown",
   "metadata": {},
   "source": [
    "# Midterm Exam 2\n",
    "\n",
    "## Due Sunday, April 24nd at 11:59pm in Gradescope"
   ]
  },
  {
   "cell_type": "code",
   "execution_count": 1,
   "metadata": {},
   "outputs": [],
   "source": [
    "import numpy as np\n",
    "import math\n",
    "import matplotlib.pyplot as plt\n",
    "%matplotlib inline"
   ]
  },
  {
   "cell_type": "markdown",
   "metadata": {},
   "source": [
    "Please sign below:\n",
    "\n",
    "I, the undersigned, hereby pledge that all work on this examination is my own. I have neither given assistance to any other student, nor received assistance from any other student. I understand that cheating on this examination will result in a failure as well as being reported to San Diego State University’s Division of Academic Affairs.\t\n",
    "\n",
    "Name:__Austin__ __Frey__"
   ]
  },
  {
   "cell_type": "markdown",
   "metadata": {},
   "source": [
    "**Problem 1** : (9 pts)\n",
    "\n",
    "Find intervals of size 1.0, each containing one or more roots of\n",
    "\n",
    "$$\n",
    "y = -19(x-0.5)(x-1) + \\exp(x) - \\exp(-2x), \\ \\quad -10 < x < 10.\n",
    "$$\n",
    "\n",
    "**Hint**: Write a Python program to check if there is a root between any of these intervals [-10,-9], [-9,-8], [-8,-7], $\\cdots$ [8,9], [9,10]. Your program should `identify the intervals` that have at least one root. Use a  root finding method your learnt in class.\n",
    "\n",
    "Example: If there is a root between an interval [9,10], your program should state the following:\n",
    "\n",
    "`There is a root between 9 and 10.`\n",
    "\n",
    "Note: Print the statement for all intervals for which there is a root."
   ]
  },
  {
   "cell_type": "code",
   "execution_count": 105,
   "metadata": {},
   "outputs": [
    {
     "name": "stdout",
     "output_type": "stream",
     "text": [
      "There is a root between 0 and 1.\n",
      "There is a root between 1 and 2.\n",
      "There is a root between 6 and 7.\n"
     ]
    }
   ],
   "source": [
    "#problem 1 solution\n",
    "\n",
    "fx = lambda x : -19 * (x - 0.5) * (x - 1) + np.exp(x) - np.exp(-2 * x)\n",
    "\n",
    "for i in range(-10, 10):\n",
    "    if (fx(i) * fx(i + 1) < 0):\n",
    "        print(\"There is a root between\", i, \"and\", i + 1, end= \".\\n\")"
   ]
  },
  {
   "cell_type": "markdown",
   "metadata": {},
   "source": [
    "**Problem 2** : (15 pts)\n",
    "\n",
    "The normal probability distribution is defined as:\n",
    "\n",
    "$$\n",
    "p(x) = \\frac{1}{\\sigma \\sqrt{2\\pi}} e^{-(x-\\mu)^2/2\\sigma^2}\n",
    "$$\n",
    "\n",
    "where $\\mu$ is the mean, or average and $\\sigma$ is the variance. This is the famous bell-shaped curve that one hears so much about; the mean gives the center of the bell and the variance gives the width of it. If $x$ is distributed in this fashion, then the probability that $a \\le x \\le b$ is given by the integral\n",
    "\n",
    "$$P(a \\le x \\le b) = \\int_a^b p(x) \\ dx $$\n",
    "\n",
    "Using a change of variable $z = ( x − \\mu )/\\sigma$ we obtain  that $$P(-m\\sigma \\le x \\le m\\sigma) =  \\frac{1}{\\sqrt{2\\pi}} \\int_{-m}^m e^{-z^2/2} \\ dz $$\n",
    "\n",
    "\n",
    "Compute values of $P(-m\\sigma \\le x \\le m\\sigma)$ for $m = 1 , 2 , 3 ,$ using Simpson’s rule."
   ]
  },
  {
   "cell_type": "code",
   "execution_count": 129,
   "metadata": {},
   "outputs": [
    {
     "name": "stdout",
     "output_type": "stream",
     "text": [
      "m = 1 while p = 0.682698\n",
      "m = 2 while p = 0.954463\n",
      "m = 3 while p = 0.997195\n"
     ]
    }
   ],
   "source": [
    "#problem 2 solution\n",
    "def func(x):\n",
    "    return 1 / np.sqrt(2 * np.pi) * np.exp(-x * x / 2)\n",
    "\n",
    "def simpsonsMethod(low, up, n ):\n",
    "    h = (up - low) / n\n",
    "  \n",
    "    x = list()\n",
    "    fx = list()\n",
    "\n",
    "    i = 0\n",
    "    while i<= n:\n",
    "        x.append(low + i * h)\n",
    "        fx.append(func(x[i]))\n",
    "        i += 1\n",
    "  \n",
    "    j = 0\n",
    "    ans = 0\n",
    "    while j <= n: \n",
    "        if j == 0 or j == n: \n",
    "            ans += fx[j]\n",
    "            \n",
    "        elif j % 2 != 0: \n",
    "            ans += 4 * fx[j] \n",
    "            \n",
    "        else: \n",
    "            ans += 2 * fx[j] \n",
    "        j += 1\n",
    "    \n",
    "    ans = ans * (h / 3) \n",
    "    return ans \n",
    "\n",
    "for m in range(1, 4):      \n",
    "    print(\"m =\", m,\"while p = %.6f\"% simpsonsMethod(-m, m, 10)) "
   ]
  },
  {
   "cell_type": "markdown",
   "metadata": {},
   "source": [
    "**Problem 3** : (15 pts) \n",
    "\n",
    "The equation\n",
    "$$\n",
    "f(x) = \\int_{0}^{x}\\frac{1}{\\sqrt{2\\pi}}e^{-t^{2}/2} dt = .5, \n",
    "$$\n",
    "can be solved via Newton's Method.  Using the Fundamental Theorem of Calculus, we readily get that \n",
    "$$\n",
    "f'(x) = \\frac{1}{\\sqrt{2\\pi}}e^{-x^{2}/2}.\n",
    "$$\n",
    "Then we just need a way of approximating the integral in order to evaluate \n",
    "$$\n",
    "f(x) - .5.  \n",
    "$$\n",
    "Use the Simpson Method to find the integral and thus the function $f(x)$.  Starting from an initial guess $x_{0} = .5$, what is an approximation to the root $x_{\\ast}$ such that $f(x_{\\ast})=.5$?  How does your approximation to the root change as you change mesh size of the Simpson Method?  "
   ]
  },
  {
   "cell_type": "code",
   "execution_count": 135,
   "metadata": {},
   "outputs": [
    {
     "name": "stdout",
     "output_type": "stream",
     "text": [
      "m = 1 while p = 0.651824\n",
      "m = 2 while p = 1.255125\n",
      "m = 3 while p = 1.636991\n"
     ]
    },
    {
     "name": "stderr",
     "output_type": "stream",
     "text": [
      "C:\\Users\\austi\\AppData\\Local\\Temp/ipykernel_8588/2004658100.py:35: ComplexWarning: Casting complex values to real discards the imaginary part\n",
      "  print(\"m =\", m,\"while p = %.6f\"% simpsonTwo(-m, m, 10))\n"
     ]
    }
   ],
   "source": [
    "#problem 3 solution\n",
    "\n",
    "def func(x):\n",
    "    return 1 / (np.sqrt(2 * np.pi))*np.exp( -x ** x / 2)\n",
    "\n",
    "def simpsonTwo(low, up, n):\n",
    "    h = (up - low) / n\n",
    "  \n",
    "    x = list()\n",
    "    fx = list()\n",
    "    \n",
    "    i = 0\n",
    "    while i<= n:\n",
    "        x.append(low + i * h)\n",
    "        fx.append(func(x[i]))\n",
    "        i += 1\n",
    "  \n",
    "    j = 0\n",
    "    ans = 0\n",
    "    while j <= n: \n",
    "        if j == 0 or j == n: \n",
    "            ans += fx[j]\n",
    "            \n",
    "        elif j % 2 != 0: \n",
    "            ans += 4 * fx[j] \n",
    "            \n",
    "        else: \n",
    "            ans += 2 * fx[j] \n",
    "        j += 1\n",
    "    \n",
    "    ans = ans * (h / 3) \n",
    "    return ans \n",
    "\n",
    "for m in range(1, 4):      \n",
    "    print(\"m =\", m,\"while p = %.6f\"% simpsonTwo(-m, m, 10)) "
   ]
  },
  {
   "cell_type": "markdown",
   "metadata": {},
   "source": [
    "**Problem 4**: (10pts )\n",
    "\n",
    "A bullet of $M=2gm$ has been shot vertically into the air and is descending at its terminal speed. The terminal speed is determined by $gM= D_{drag}$ where $g$ is gravity and $M$ is mass, and may be written after evaluating the constants as \n",
    "\n",
    "$$\n",
    "    \\frac{(2)(9.81)}{1000} = 1.4 \\times 10^{-5}v^{1.5} + 1.15 \\times 10^{-5} v^2\n",
    "$$\n",
    "\n",
    " where $v$ is the terminal velocity in $m/s$. The first term on the right side represents the friction drag, and the second term represents the pressure drag. \n",
    " \n",
    " Determine the terminal velocity by the bisection method with a tolerance of 0.01."
   ]
  },
  {
   "cell_type": "code",
   "execution_count": 137,
   "metadata": {},
   "outputs": [
    {
     "name": "stdout",
     "output_type": "stream",
     "text": [
      "root:  37.7349853515625\n"
     ]
    }
   ],
   "source": [
    "#problem 4 solution\n",
    "def func(n):\n",
    "    return (1.4e-5) * (n**1.5) + (1.15e-5)* n * n - 2 * 9.81 / 1000\n",
    "\n",
    "def bisectionMethod(x1, x2):\n",
    "    fin = x1\n",
    "    \n",
    "    while((x2 - x1) >= 0.01):\n",
    "        fin = (x1 + x2) / 2\n",
    "        \n",
    "        if(func(fin) == 0.0):\n",
    "            break\n",
    "        \n",
    "        if(func(fin) * func(x1) < 0):\n",
    "            x2 = fin\n",
    "        else:\n",
    "            x1 = fin\n",
    "            \n",
    "    print(\"root: \", fin)\n",
    "\n",
    "bisectionMethod(10, 100)"
   ]
  },
  {
   "cell_type": "markdown",
   "metadata": {},
   "source": [
    "**Problem 5**: (14pts )\n",
    "\n",
    "The natural logarithm is defined as an integral,\n",
    "\n",
    "$$\n",
    "\\ln(x) = \\int_1^x \\frac{1}{t} \\ dt\n",
    "$$\n",
    "\n",
    "(a) Using the trapezoid rule, write a program to  find approximations to $\\ln(x)$.\n",
    "\n",
    "(b) Using your program in 5(a), find the value of $\\ln(2)$.\n",
    "\n",
    "\n",
    "(c) Using the following series approximation for $\\ln(x)$, write a program to find approximations to $\\ln(x)$.\n",
    "$$\n",
    "\\ln(x) \\approx  \\frac{x^2-1}{2nx} + \\sum_{k=1}^{n-1} \\frac{x-1}{n+k(x-1)}\n",
    "$$\n",
    "\n",
    "(d) Using your program in 5(c) find the value of $\\ln(2)$."
   ]
  },
  {
   "cell_type": "code",
   "execution_count": 139,
   "metadata": {},
   "outputs": [
    {
     "data": {
      "text/plain": [
       "24.99"
      ]
     },
     "execution_count": 139,
     "metadata": {},
     "output_type": "execute_result"
    }
   ],
   "source": [
    "#problem 5a and 5b solution\n",
    "def trapLn(x, n):\n",
    "    fx = (x ** 2 - 1) / (2 * n * x)\n",
    "    \n",
    "    for i in range(1, n):\n",
    "        fx += fx + (x - 1) / (n + i * (x - 1))\n",
    "    return fx\n",
    "\n",
    "trapLn(50, 1)"
   ]
  },
  {
   "cell_type": "markdown",
   "metadata": {},
   "source": [
    "**Problem 6**: (10 pts)\n",
    "\n",
    "\n",
    "a) Write a program to compute $n!,$ where $n$ is an integer that is greater than or equal to zero. Do not use **factorial** function in the math library or any other library.\n",
    "\n",
    "Test your program by computing $0!$ and $7!.$\n",
    "\n",
    "b) Using a **for** loop, implement a program  that  calculates $(1+x)^n$ where x is any real number and $n \\ge 0$ is an integer.\n",
    "\n",
    "Test your code with \n",
    "\n",
    "    i) x = 3 and n = 0\n",
    "    ii) x =4 and n=5"
   ]
  },
  {
   "cell_type": "code",
   "execution_count": 14,
   "metadata": {},
   "outputs": [
    {
     "data": {
      "text/plain": [
       "(1, 5040)"
      ]
     },
     "execution_count": 14,
     "metadata": {},
     "output_type": "execute_result"
    }
   ],
   "source": [
    "#problem 6a solution\n",
    "\n",
    "def factorialThing(n):\n",
    "    ans = 1\n",
    "    if n == 0:\n",
    "        return 1\n",
    "    else:\n",
    "        for i in range(1, n + 1):\n",
    "            ans = ans * i\n",
    "        return ans\n",
    "    \n",
    "factorialThing(0), factorialThing(7)\n"
   ]
  },
  {
   "cell_type": "code",
   "execution_count": 40,
   "metadata": {},
   "outputs": [
    {
     "data": {
      "text/plain": [
       "(1, 3125)"
      ]
     },
     "execution_count": 40,
     "metadata": {},
     "output_type": "execute_result"
    }
   ],
   "source": [
    "#problem 6b solution\n",
    "def secondThing(x, n):\n",
    "    ans = 1\n",
    "    fx = (1 + x)\n",
    "    \n",
    "    for i in range(1, n + 1):\n",
    "        ans = ans * fx\n",
    "    return ans\n",
    "    \n",
    "secondThing(3, 0), secondThing(4, 5)"
   ]
  },
  {
   "cell_type": "markdown",
   "metadata": {},
   "source": [
    "**Problem 7**: (4 pts) Using the Newton Method, \n",
    "\n",
    "(a) (3 pts) Write a program which finds $100^{1/m}$ for a positive integer $m$.  **Hint:** you need to choose a function $f(x)$ for the Newton Method whose root is $100^{1/m}$.  \n",
    "\n",
    "(b) (1 pts) Assuming  $1 \\le m \\le 9$, how does your choice of $m$ affect how many iterations your program takes to converge for a given tolerance choice?  "
   ]
  },
  {
   "cell_type": "code",
   "execution_count": 66,
   "metadata": {},
   "outputs": [],
   "source": [
    "#problem 7 solution\n",
    "def fx(x, m):\n",
    "    return x ** m - 100;\n",
    "\n",
    "def fxPrime(x, m):\n",
    "    return m;\n",
    "\n",
    "def newtMethod(m):\n",
    "    iters = 0 \n",
    "    x = 50\n",
    "    while(fx(x, m)) > 1e-7:\n",
    "        x = x-fx(x, m)/fxPrime(x, m)\n",
    "        iters += 1\n",
    "    return x, iters\n",
    "\n",
    "root, iterations = newtMethod(3)"
   ]
  },
  {
   "cell_type": "markdown",
   "metadata": {},
   "source": [
    "**Problem 8**: (10pts) \n",
    "Find a Lagrange interpolating polynomial of degree 3 that passes through the points in the table\n",
    "\n",
    "$$\n",
    "\\begin{array}{r|r}\n",
    "x_{i} & f{(x_i)}\\\\\n",
    "\\hline\n",
    "-1 & 3\\\\\n",
    "0 & -4\\\\\n",
    "1 & 5\\\\\n",
    "2 & -6\n",
    "\\end{array}\n",
    "$$\n",
    "\n",
    "**Hint** Use LaTeX to show the Lagrange interpolating polynomial. You must show your work to receive credit."
   ]
  },
  {
   "cell_type": "code",
   "execution_count": null,
   "metadata": {},
   "outputs": [],
   "source": [
    "#problem 8 solution"
   ]
  },
  {
   "cell_type": "markdown",
   "metadata": {},
   "source": [
    "$$\n",
    "f(x)=\\frac{3(x+0)(x-1)(x-2)}{(-1)(-1-1)(-1-2)} - \\frac{4(x+1)(x-1)(x-2)(x-2)}{(1)(0-1)(0-2)} + \\frac{5(x+1)(x+0)(x-2)}{(1+1)(1)(1-2)} - \\frac{6(x+1)(x+0)(x-1)}{(2+1)(2)(2-1)}\n",
    "$$\n",
    "\n",
    "$$\n",
    "f(x)=\\frac{3(x^{2}-x)(x-2)}{-6} - \\frac{4(x^{2}-1)(x-2)}{2} + \\frac{5(x^{2}+x)(x-2)}{-2} - \\frac{6(x^{2}+x)(x-1)}{6}\n",
    "$$\n",
    "\n",
    "$$\n",
    "f(x)=\\frac{-(x^{3}+3x^{2}+3x) + 2(x-2)}{2} - 2(x^{3} - 2x^{2} - x + 2) - \\frac{5(x^{3}-x^{2}-2x)}{2} - (x^{3}-x)\n",
    "$$\n",
    "\n",
    "$$\n",
    "f(x)=\\frac{-x^{3}}{2}+\\frac{3x^{2}}{2}-x-2x^{3}+4x^{2}+2x-4-\\frac{5x^{3}}{2}+\\frac{5x^{2}}{2}+5x-x^{3}+x\n",
    "$$\n",
    "\n",
    "$$\n",
    "f(x)=-6x^{3}+8x^{2}+7x-4\n",
    "$$"
   ]
  },
  {
   "cell_type": "code",
   "execution_count": null,
   "metadata": {},
   "outputs": [],
   "source": []
  },
  {
   "cell_type": "markdown",
   "metadata": {},
   "source": [
    "**Problem 9**: (4 points)\n",
    "\n",
    "Runge Kutta 4 method can be used to obtain  numerical solutions for differential equations of the form $\\frac{dy}{dx}=f(x,y)$. The formula for Runge Kutta 4 method is:\n",
    "\n",
    "$$y_{n+1} = y_n + \\frac{1}{6}(k_1 +2k_2+2k_3+k_4)$$\n",
    "where \n",
    "\\begin{align}\n",
    "k_1 &= hf(x_n,y_n),\\\\\n",
    "k_2 &= hf(x_n+ 0.5h,y_n+0.5k_1),\\\\\n",
    "k_3 &=hf(x_n+0.5h,y_n+0.5k_2),\\\\\n",
    "k_4 &= hf(x_n+h,y_n+k_3).\n",
    "\\end{align}\n",
    "\n",
    "You are advised to look carefully at the formula; note that $k_2$ depends on $k_1$, $k_3$ depends on $k_2$, and $k_4$ depends on $k_3$. \n",
    "\n",
    "\n",
    "(a) The value of $x_n$ for $n=0 \\cdots 10$ is given in the table below:\n",
    "\n",
    "| $x_0$  |  $x_1$ |  $x_2$ |  $x_3$|  $x_4$  |  $x_5$ |  $x_6$  |  $x_7$ |  $x_8$ |  $x_9$|  $x_{10}$  | \n",
    "| ------------- | ------------- | ------------- | ------------- | ------------- | ------------- |------------- | ------------- | ------------- | ------------- | ------------- |\n",
    " | 0 | 0.1 | 0.2| 0.3  | 0.4 | 0.5 | 0.6 | 0.7| 0.8  | 0.9 | 1.0 |\n",
    " \n",
    "Suppose that $y_0=1$, $h=0.1$, $f(x,y) = \\frac{5x^2-y}{e^{x+y}}$, write a program to compute the value of $y_n$ for $n=0 \\cdots 10$. Use the formula for $y_{n+1}$ above. Observe that the formula for $y_{n+1}$ is a recursive relation.\n",
    "\n",
    "Present your $y_n$ values for $n=0 , \\ldots , 10$ ."
   ]
  },
  {
   "cell_type": "code",
   "execution_count": 126,
   "metadata": {},
   "outputs": [
    {
     "name": "stdout",
     "output_type": "stream",
     "text": [
      "0 1\n",
      "1 0.9655827898649603\n",
      "2 0.9377962749535078\n",
      "3 0.9189181058773573\n",
      "4 0.9104421928530851\n",
      "5 0.9130598390228777\n",
      "6 0.9267065986450863\n",
      "7 0.9506796142241156\n",
      "8 0.9838057659277717\n",
      "9 1.0246280459798747\n",
      "10 1.0715783952528408\n"
     ]
    }
   ],
   "source": [
    "#problem 9 solution\n",
    "\n",
    "def fx(x, y):\n",
    "    func = (5 * x**2 - y) / np.exp(x + y)\n",
    "    return func\n",
    "\n",
    "xArr = [0, 0.1, 0.2, 0.3, 0.4, 0.5, 0.6, 0.7, 0.8, 0.9, 1]\n",
    "x = []\n",
    "y = []\n",
    "x.append(0)\n",
    "y.append(1)\n",
    "length = len(xArr)\n",
    "h = 0.1\n",
    "\n",
    "\n",
    "for i in range(0, length):\n",
    "    k1 = h * fx(x[i], y[i])\n",
    "    k2 = h * fx(x[i] + 0.5 * h, y[i] + 0.5 * k1)\n",
    "    k3 = h * fx(x[i] + 0.5 * h, y[i] + 0.5 * k2)\n",
    "    k4 = h * fx(x[i] + h, y[i] + k3)\n",
    "    \n",
    "    yNext = y[i] + (k1 + 2 * k2 + 2 * k3 + k4) / 6\n",
    "    \n",
    "    y.append(yNext)\n",
    "    x.append(x[i] + h)\n",
    "    \n",
    "for i in range(0, length):\n",
    "    print(i, y[i])"
   ]
  },
  {
   "cell_type": "markdown",
   "metadata": {},
   "source": [
    "**Problem 10**: (6 points)\n",
    "\n",
    "Euler method can be used to solve differential equations of the form $\\frac{dy}{dx}=f(x,y)$. The  formula for Euler method is:\n",
    "$$y_{n+1} = y_n + h f(x_n,y_n)$$\n",
    "\n",
    "\n",
    "(a) The value of $x_n$ for $n=0 \\cdots 10$ is given in the table below:\n",
    "\n",
    "| $x_0$  |  $x_1$ |  $x_2$ |  $x_3$|  $x_4$  |  $x_5$ |  $x_6$  |  $x_7$ |  $x_8$ |  $x_9$|  $x_{10}$  | \n",
    "| ------------- | ------------- | ------------- | ------------- | ------------- | ------------- |------------- | ------------- | ------------- | ------------- | ------------- |\n",
    " | 0 | 0.1 | 0.2| 0.3  | 0.4 | 0.5 | 0.6 | 0.7| 0.8  | 0.9 | 1.0 |\n",
    " \n",
    "Suppose that $y_0=1$, $h=0.1$, $f(x,y) = \\frac{5x^2-y}{e^{x+y}}$, write a program to compute the value of $y_n$ for $n=0 \\cdots 10$. Use the formula for $y_{n+1}$ above. \n",
    " \n",
    "\n",
    "(b) Compare the solution in Problem 10a to that in Problem 9a by plotting on the same graph the points $(x_n,y_n)$ for $n=0 \\cdots 10$ generated from  Problem 10a and Problem 9a.  Label the axis of your graph.\n",
    "Don't forget  to add a legend to your graph. \n",
    "\n",
    "(c) Determine how much the solution obtained from Problem 10a differs from Problem 9a by plotting the natural log of the absolute value of the differences in their $y_n$ values against the corresponding $x_n$ values. Label the axis and add a title to your graph."
   ]
  },
  {
   "cell_type": "code",
   "execution_count": 131,
   "metadata": {},
   "outputs": [
    {
     "data": {
      "text/plain": [
       "[<matplotlib.lines.Line2D at 0x1dfc7674670>]"
      ]
     },
     "execution_count": 131,
     "metadata": {},
     "output_type": "execute_result"
    },
    {
     "data": {
      "image/png": "[encoded data removed]",
      "text/plain": [
       "<Figure size 432x288 with 1 Axes>"
      ]
     },
     "metadata": {
      "needs_background": "light"
     },
     "output_type": "display_data"
    }
   ],
   "source": [
    "#problem 10 solution\n",
    "plt.xlabel('x')\n",
    "plt.ylabel('y')\n",
    "plt.title('Runga thingy')\n",
    "plt.plot(x, y)"
   ]
  },
  {
   "cell_type": "code",
   "execution_count": null,
   "metadata": {},
   "outputs": [],
   "source": []
  }
 ],
 "metadata": {
  "kernelspec": {
   "display_name": "Python 3 (ipykernel)",
   "language": "python",
   "name": "python3"
  },
  "language_info": {
   "codemirror_mode": {
    "name": "ipython",
    "version": 3
   },
   "file_extension": ".py",
   "mimetype": "text/x-python",
   "name": "python",
   "nbconvert_exporter": "python",
   "pygments_lexer": "ipython3",
   "version": "3.9.7"
  }
 },
 "nbformat": 4,
 "nbformat_minor": 2
}
